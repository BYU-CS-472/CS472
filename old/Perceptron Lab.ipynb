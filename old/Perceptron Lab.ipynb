{
  "cells": [
    {
      "cell_type": "markdown",
      "metadata": {
        "id": "DVL7_bgmIAPR"
      },
      "source": [
        "# Perceptron Lab\n",
        "\n",
        "\n",
        "\n"
      ]
    },
    {
      "cell_type": "markdown",
      "metadata": {
        "id": "rBIfzcfn3QPO"
      },
      "source": [
        "Test:: This is the scaffold code for the perceptron lab and each lab will have a similar scaffold. There are both code boxes and discussion boxes that you will need to fill in as part of the lab. For example, the first code box you will fill is found below in section one. It a PerceptronClassifier class with function stubs. In addition to filling out the stubs, you are encouraged to add additional functions, parameters, etc. as you see fit.  You do not need to use the scaffolding, but your learners must minimally support the functions and parameters defined in the scaffolding.\n",
        "\n",
        "**You should have some discussion for all subtasks** and particularly discussion of results, graphs, etc. Good writing, grammar, punctuation, etc. are important and points will be taken off if these things are lacking. Label all axes on graphs. The report for each subtask might go something like:\n",
        "In this task I divided the randomly shuffled training set into a training set (70%) and a test set (30%). I tried different values of parameter x from n-m and reported training and test set accuracy in the table.  I kept testing until m because… The accuracy on the training set was highest for values between 2-4 while for the test set the accuracy was highest for values 5 and 6. In most casees just reporting results without discussion will not receive full credit. Thus, your discussion should also include sentences like the following: This is because…  Note that the …  I was surprised to observe… I am not sure why …, but my hypothesis is that …"
      ]
    },
    {
      "cell_type": "code",
      "execution_count": null,
      "metadata": {
        "id": "6ZbYjZZZ_yLV"
      },
      "outputs": [],
      "source": [
        "# imports\n",
        "from sklearn.base import BaseEstimator, ClassifierMixin\n",
        "from sklearn.linear_model import Perceptron\n",
        "import numpy as np\n",
        "import matplotlib.pyplot as plt"
      ]
    },
    {
      "cell_type": "markdown",
      "metadata": {
        "id": "sCcEPx5VIORj"
      },
      "source": [
        "## 1. Correctly implement and submit your own code for the perceptron learning algorithm. \n",
        "\n",
        "### Code requirements\n",
        "- Shuffle the data each epoch. Write your own this time. In the future you can use the scikit-learn version if you want.\n",
        "- Implement a way to create a random train/test split. Write your own this time. In the future you can use the scikit-learn version if you want. \n",
        "- Your node should output 1 if net is > 0, else 0.\n",
        "- Use Stochastic/On-line training updates: Iterate and update weights after each training instance (i.e. not batch updates)\n",
        "- Implement a stopping criteria: when your model has trained for a number of epochs with no improvement in accuracy, stop training. Note that the weights/accuracy do not usually change monotonically.\n",
        "- Your class can inherit from the relevant scikit-learn learners, but don't call any of the super methods to accomplish the requirements above.\n",
        "- You may use other packages for ARFF loading, graphing, generating a random number, etc."
      ]
    },
    {
      "cell_type": "code",
      "execution_count": null,
      "metadata": {
        "id": "_a2KSZ_7AN0G"
      },
      "outputs": [],
      "source": [
        "class PerceptronClassifier(BaseEstimator,ClassifierMixin):\n",
        "\n",
        "    def __init__(self, lr=.1, shuffle=True):\n",
        "        \"\"\" \n",
        "            Initialize class with chosen hyperparameters.\n",
        "        Args:\n",
        "            lr (float): A learning rate / step size.\n",
        "            shuffle: Whether to shuffle the training data each epoch. DO NOT \n",
        "            SHUFFLE for evaluation / debug datasets.\n",
        "        \"\"\"\n",
        "        self.lr = lr\n",
        "        self.shuffle = shuffle\n",
        "\n",
        "    def fit(self, X, y, initial_weights=None):\n",
        "        \"\"\" \n",
        "            Fit the data; run the algorithm and adjust the weights to find a \n",
        "            good solution\n",
        "        Args:\n",
        "            X (array-like): A 2D numpy array with the training data, excluding\n",
        "            targets\n",
        "            y (array-like): A 2D numpy array with the training targets\n",
        "            initial_weights (array-like): allows the user to provide initial \n",
        "            weights\n",
        "        Returns:\n",
        "            self: this allows this to be chained, e.g. model.fit(X,y).predict(X_test)\n",
        "        \"\"\"\n",
        "        self.weights = self.initialize_weights() if not initial_weights else initial_weights\n",
        "\n",
        "        return self\n",
        "\n",
        "    def predict(self, X):\n",
        "        \"\"\" \n",
        "            Predict all classes for a dataset X\n",
        "        Args:\n",
        "            X (array-like): A 2D numpy array with the training data, excluding \n",
        "            targets\n",
        "        Returns:\n",
        "            array, shape (n_samples,)\n",
        "                Predicted target values per element in X.\n",
        "        \"\"\"\n",
        "        pass\n",
        "\n",
        "    def initialize_weights(self):\n",
        "        \"\"\" Initialize weights for perceptron. Don't forget the bias!\n",
        "        Returns:\n",
        "        \"\"\"\n",
        "\n",
        "        return [0]\n",
        "\n",
        "    def score(self, X, y):\n",
        "        \"\"\" \n",
        "            Return accuracy of model on a given dataset. Must implement own \n",
        "            score function.\n",
        "        Args:\n",
        "            X (array-like): A 2D numpy array with data, excluding targets\n",
        "            y (array-like): A 2D numpy array with targets\n",
        "        Returns:\n",
        "            score : float\n",
        "                Mean accuracy of self.predict(X) wrt. y.\n",
        "        \"\"\"\n",
        "\n",
        "        return 0\n",
        "\n",
        "    def _shuffle_data(self, X, y):\n",
        "        \"\"\" \n",
        "            Shuffle the data! This _ prefix suggests that this method should \n",
        "            only be called internally.\n",
        "            It might be easier to concatenate X & y and shuffle a single 2D \n",
        "            array, rather than shuffling X and y exactly the same way, \n",
        "            independently.\n",
        "        \"\"\"\n",
        "        pass\n",
        "\n",
        "    ### Not required by sk-learn but required by us for grading. Returns the weights.\n",
        "    def get_weights(self):\n",
        "        pass"
      ]
    },
    {
      "cell_type": "markdown",
      "metadata": {
        "id": "KibCIXIThpbE"
      },
      "source": [
        "## 1.1 Debug and Evaluation\n",
        "\n",
        "Use your perceptron code first to solve the Debug data. We provide you with several parameters, and you should be able to replicate our results every time. When you are confident your code is correct, run your perceptron on the Evaluation data with the same parameters.\n",
        "\n",
        "Debug and Evaluate your model using the parameters below\n",
        "\n",
        "Learning Rate = 0.1 \\ \n",
        "Deterministic = 10 [This means run it 10 epochs and should be the same everytime you run it] \\ \n",
        "Shuffle = False \\ \n",
        "Initial Weights = All zeros\n",
        "\n",
        "---\n",
        "\n",
        "### 1.1.1 (20%) Debug\n",
        "\n",
        "Debug your model by running it on the [debug dataset](https://raw.githubusercontent.com/cs472ta/CS472/master/datasets/linsep2nonorigin.arff)\n",
        "\n",
        "Expected Results:\n",
        "\n",
        "Accuracy = [0.88]\\\n",
        "Final Weights = [-0.23  0.18 -0.1 ]"
      ]
    },
    {
      "cell_type": "code",
      "execution_count": null,
      "metadata": {
        "id": "KgAyy82gixIF"
      },
      "outputs": [],
      "source": [
        "# Load debug data\n",
        "# Train on debug data\n",
        "# Have your code execute and print your accuracy and weights here. Do not enter these values by hand."
      ]
    },
    {
      "cell_type": "markdown",
      "metadata": {
        "id": "BJ8mElJc9oUl"
      },
      "source": [
        "*Discussion*"
      ]
    },
    {
      "cell_type": "markdown",
      "metadata": {
        "id": "kY3VNB1ui03N"
      },
      "source": [
        "### 1.1.2 (20%) Evaluation\n",
        "\n",
        "We will evaluate your model based on it's performance on the [evaluation dataset](https://raw.githubusercontent.com/cs472ta/CS472/master/datasets/data_banknote_authentication.arff). Use the same parameters as the debug dataset. The most common reason for results not to match ours is because students do not exactly follow the same paramters (e.g. intital weights, traing exactly 10 epochs, no shuffling, etc.) "
      ]
    },
    {
      "cell_type": "code",
      "execution_count": null,
      "metadata": {
        "id": "2yAxA78QjDh2"
      },
      "outputs": [],
      "source": [
        "# Load evaluation data\n",
        "# Train on evaluation data\n",
        "# Have your code execute and print your accuracy and weights here. Do not enter these values by hand."
      ]
    },
    {
      "cell_type": "markdown",
      "metadata": {
        "id": "U-4J5VcS9umq"
      },
      "source": [
        "*Discussion*"
      ]
    },
    {
      "cell_type": "markdown",
      "metadata": {
        "id": "9vWiTdlbR2Xh"
      },
      "source": [
        "## 2. Classifying on linearly separable and non-linearly separable data\n",
        "\n",
        "### 2.1 (5%) Create 2 datasets\n",
        "\n",
        "- Both with 8 instances using 2 real valued inputs (ranging between -1 and 1) with 4 instances from each class. \n",
        "- One data set should be linearly separable and the other not.\n",
        "\n"
      ]
    },
    {
      "cell_type": "code",
      "execution_count": null,
      "metadata": {
        "id": "4SSoasDQSKXb"
      },
      "outputs": [],
      "source": [
        "# Create 2 datasets"
      ]
    },
    {
      "cell_type": "markdown",
      "metadata": {
        "id": "b8N_RKnL9ySB"
      },
      "source": [
        "*Discussion*"
      ]
    },
    {
      "cell_type": "markdown",
      "metadata": {
        "id": "SIRG42TgSR4x"
      },
      "source": [
        "### 2.2 (5%) Train on both sets with your perceptron code (with LR=.1)"
      ]
    },
    {
      "cell_type": "code",
      "execution_count": null,
      "metadata": {
        "id": "KBGUn43ASiXW"
      },
      "outputs": [],
      "source": [
        "# Train on each dataset"
      ]
    },
    {
      "cell_type": "markdown",
      "metadata": {
        "id": "890A39KX9zLC"
      },
      "source": [
        "*Discussion*"
      ]
    },
    {
      "cell_type": "markdown",
      "metadata": {
        "id": "v19fpixqTe-7"
      },
      "source": [
        "### 2.3 (5%) Graph the datasets and their corresponding decision line\n",
        " \n",
        " - Graph each dataset\n",
        " - Use your trained perceptrons above to determine each dataset's decision line\n",
        " - For all graphs always label the axes!\n",
        " \n",
        "![Linearly Separable Data](https://raw.githubusercontent.com/rmorain/CS472-1/master/images/perceptron/linearly_separable.png)\n",
        "\n",
        "![Not Linearly Separable](https://raw.githubusercontent.com/rmorain/CS472-1/master/images/perceptron/not_linearly_separable.png)"
      ]
    },
    {
      "cell_type": "code",
      "execution_count": 34,
      "metadata": {
        "colab": {
          "base_uri": "https://localhost:8080/",
          "height": 312
        },
        "id": "8l64tZUqCEwy",
        "outputId": "d111d17a-4813-4e52-c0df-3790ebe6f7b6"
      },
      "outputs": [
        {
          "data": {
            "text/plain": [
              "<Figure size 432x288 with 0 Axes>"
            ]
          },
          "metadata": {},
          "output_type": "display_data"
        },
        {
          "data": {
            "image/png": "[encoded data removed]",
            "text/plain": [
              "<Figure size 432x288 with 1 Axes>"
            ]
          },
          "metadata": {
            "needs_background": "light"
          },
          "output_type": "display_data"
        }
      ],
      "source": [
        "# Sample Graph code, You can use any graphing approach you want including this one\n",
        "# --- Dataset 2: if input 1 >=0 1 else 0\n",
        "import numpy as np\n",
        "import matplotlib.pyplot as plt\n",
        "\n",
        "data = np.array([[-.9,-.9],[-.6,.6],[-.3,.3],[-.1,.1],[.1,.456],[.3,-.324],[.6,.778],[.9,-.76]])\n",
        "labels = np.array([0,0,0,0,1,1,1,1])\n",
        "\n",
        "# Create a grid\n",
        "plt.figure(1)\n",
        "xlist = np.linspace(-1.0, 1.0, 100) # create 100 evenly spaced points between -1 and 1 for the x axis\n",
        "ylist = np.linspace(-1.0, 1.0, 100) # create 100 evenly spaced points between -1 and 1 for the y axis\n",
        "X, Y = np.meshgrid(xlist, ylist) # make coordinate matrix for our x and y lines\n",
        "Z = X # optional, I wanted to show the true class distinction\n",
        "\n",
        "# Create a plot\n",
        "fig,ax=plt.subplots(1,1)\n",
        "ax.contourf(X, Y, Z, levels=[0, 1], cmap = 'Greys') # optional, I wanted to show the true class distinction\n",
        "ax.set_title('Linearly Separable Data Example')\n",
        "ax.set_xlabel('x')\n",
        "ax.set_ylabel('y')\n",
        "plt.xlim(-1,1)\n",
        "plt.ylim(-1,1)\n",
        "\n",
        "# Scatter plot data points \n",
        "scatter = plt.scatter(data[:,0], data[:,1], c = labels, s=200, cmap='seismic')\n",
        "legend = ax.legend(*scatter.legend_elements(num=1), title=\"Class\", loc='upper right') # Legend\n",
        "ax.add_artist(legend)\n",
        "\n",
        "# Plot the leanrned separator\n",
        "w = [1,1,1] # Get the weights from your own perceptron\n",
        "slope = -2 # this is a magic Number; You should have an equation that calculates the true slope using your perceptron weights\n",
        "intercept = 0.1 # this is a magic Number; You should have an equation that calculates the true intercept using your perceptron weights\n",
        "eq = slope*xlist + intercept\n",
        "plt.plot(xlist,  eq, '-k', )\n",
        "plt.legend(['Learned Separator'], bbox_to_anchor=(.42, 1.0), loc = \"upper right\") # Legend\n",
        "\n",
        "plt.grid() # add grid lines\n",
        "plt.show() # show the plot"
      ]
    },
    {
      "cell_type": "code",
      "execution_count": null,
      "metadata": {
        "id": "ZCPFUAGTS2sX"
      },
      "outputs": [],
      "source": [
        "# Graph datasets and decision lines"
      ]
    },
    {
      "cell_type": "markdown",
      "metadata": {
        "id": "M7dyHR0c92zd"
      },
      "source": [
        "*Discussion*"
      ]
    },
    {
      "cell_type": "markdown",
      "metadata": {
        "id": "_N5RXV8AzdRF"
      },
      "source": [
        "### 2.4 (5%) Discuss why the perceptron won’t converge on non-linearly separable data."
      ]
    },
    {
      "cell_type": "markdown",
      "metadata": {
        "id": "0hSjHuLdzdRF"
      },
      "source": [
        "*Discussion*"
      ]
    },
    {
      "cell_type": "markdown",
      "metadata": {
        "id": "0ySvhd1lUGSe"
      },
      "source": [
        "## 3. Use your perceptron code to learn this version of the [voting data set](https://raw.githubusercontent.com/cs472ta/CS472/master/datasets/voting-dataset.arff).\n",
        "\n",
        "This particular task is an edited version of the standard voting set, where we have replaced all the “don’t know” values with the most common value for the particular attribute.  \n",
        "\n",
        "### 3.1 (10%) Create a table that reports the final training and test set accuracy and the number of epochs for each trial.\n",
        "\n",
        "- Try it five times with different random 70/30 splits. \n",
        "- Use your own code to randomize and make splits. \n",
        "- Report the 5 trials and the average across the 5 trials in a table (below is an example of what a smaller table might look like).  \n",
        "\n",
        "| Trial | Training Accuracy | Test accuracy | Number of epochs |\n",
        "| --- | --- | --- | --- |\n",
        "| 1 | .95 | .55 | 4 |\n",
        "| 2 | .85 | .45 | 6 |\n",
        "| Average | .9 | .5 | 5 | \n",
        "\n",
        "*- As a rough sanity check, typical Perceptron test accuracies for the voting data set are 90%-98%.*\n"
      ]
    },
    {
      "cell_type": "code",
      "execution_count": null,
      "metadata": {
        "id": "Romyl4G8Trki"
      },
      "outputs": [],
      "source": [
        "# Create the table any way you like"
      ]
    },
    {
      "cell_type": "markdown",
      "metadata": {
        "id": "DdWOe8Ao-CMe"
      },
      "source": [
        "*Discussion*"
      ]
    },
    {
      "cell_type": "markdown",
      "metadata": {
        "id": "cm4rbWkzVeoR"
      },
      "source": [
        "### 3.2 (5%) By looking at the weights, do your best to explain what the model has learned and how the individual input features affect the result. Which specific features are most critical for the voting task, and which are least critical? \n"
      ]
    },
    {
      "cell_type": "markdown",
      "metadata": {
        "id": "g3F0Qp-BVi1R"
      },
      "source": [
        "*Explanation goes here*"
      ]
    },
    {
      "cell_type": "markdown",
      "metadata": {
        "id": "NyUmJ4yWVsQ7"
      },
      "source": [
        "### 3.3 (5%) Make a graph of the average misclassification rate vs epochs (0th – final epoch).\n",
        "\n",
        "- Average the misclassification rate for the training set across your 5 trials (not across 5 epochs): mean(number misclassified  /  number of total data points) vs epoch\n",
        "- For larger number epochs, only include in the average those runs that trained for at least that length\n",
        "\n",
        "\n",
        "![Average Misclassification Rate](https://raw.githubusercontent.com/rmorain/CS472-1/master/images/perceptron/avg_misclassification_rate_vs_epochs.png)"
      ]
    },
    {
      "cell_type": "code",
      "execution_count": null,
      "metadata": {
        "id": "2_ZRPWWVVeFM"
      },
      "outputs": [],
      "source": [
        "# Graph here.  Here is some sample graph code which to help you get started, but you can do it your own way\n",
        "    \n",
        "def plot_misclassification(avg_misclassification_rate):\n",
        "    \"\"\"\n",
        "        Plots the average misclassification rate\n",
        "    Args:\n",
        "        avg_misclassification_rate (array-like): A 1D array or list\n",
        "    \"\"\"\n",
        "    plt.plot(np.arange(len(avg_misclassification_rate)), avg_misclassification_rate)\n",
        "    plt.title(\"Average Misclassification Rate vs. Epoch\")\n",
        "    plt.xlabel(\"Epoch\")\n",
        "    plt.ylabel(\"Misclassification Rate\")\n",
        "    plt.show()\n",
        "    \n"
      ]
    },
    {
      "cell_type": "markdown",
      "metadata": {
        "id": "PgqUrgh--GeU"
      },
      "source": [
        "*Discussion*"
      ]
    },
    {
      "cell_type": "markdown",
      "metadata": {
        "id": "oBBmeNQ7jvcQ"
      },
      "source": [
        "## 4.1 (10%) Use the perceptron algorithm from the [scikit-learn toolkit](https://scikit-learn.org/stable/modules/generated/sklearn.linear_model.Perceptron.html) to learn the voting task above.\n",
        "- Report and compare your results with your own perceptron code.\n",
        "- Try out some of the hyper-parameters that scikit-learn makes available for the perceptron and discuss your findings. Record your impressions of how scikit-learn works."
      ]
    },
    {
      "cell_type": "code",
      "execution_count": null,
      "metadata": {
        "id": "OFQv70W2VyqJ"
      },
      "outputs": [],
      "source": [
        "# Load sklearn perceptron\n",
        "# Train on voting dataset"
      ]
    },
    {
      "cell_type": "markdown",
      "metadata": {
        "id": "tUOVIqv8zdRH"
      },
      "source": [
        "*Report your comparison and discuss your findings*"
      ]
    },
    {
      "cell_type": "markdown",
      "metadata": {
        "id": "mxssT08TzdRH"
      },
      "source": [
        "## 4.2 (10%) Use the perceptron algorithm from the [scikit-learn toolkit](https://scikit-learn.org/stable/modules/generated/sklearn.linear_model.Perceptron.html) to learn one other data set of your choice.  \n",
        "- The UC Irvine Data Repository is a great source, but you may get your data set from wherever you like, though it should represent a real world task.\n",
        "- Try out some of the hyper-parameters that scikit-learn makes available."
      ]
    },
    {
      "cell_type": "code",
      "execution_count": null,
      "metadata": {
        "id": "hqPZLMf1zdRH"
      },
      "outputs": [],
      "source": [
        "# Load sklearn perceptron\n",
        "# Train on your dataset"
      ]
    },
    {
      "cell_type": "markdown",
      "metadata": {
        "id": "BqSFAXwlk3Ms"
      },
      "source": [
        "*Discuss your findinga and hyperparameters used*"
      ]
    },
    {
      "cell_type": "markdown",
      "metadata": {
        "id": "cTlK-kijk8Mg"
      },
      "source": [
        "## 5. (Optional 5% extra credit) Use the perceptron rule to learn the [iris task](https://raw.githubusercontent.com/cs472ta/CS472/master/datasets/iris.arff) or some other task with more than two possible output values. \n",
        "\n",
        "Note that the [iris data](https://raw.githubusercontent.com/cs472ta/CS472/master/datasets/iris.arff) set has 3 output classes, and a perceptron node only has two possible outputs.  You could implement an approach to deal with this like we discussed in class (review in slides). For testing you just execute the novel instance on each model and report the results. You could break ties using net values but that is not required for this part."
      ]
    },
    {
      "cell_type": "code",
      "execution_count": null,
      "metadata": {
        "id": "5iY77P7gk1Nh"
      },
      "outputs": [],
      "source": [
        "# Code here"
      ]
    },
    {
      "cell_type": "markdown",
      "metadata": {
        "id": "CCMC9aHQ-IGL"
      },
      "source": [
        "*Discussion*"
      ]
    }
  ],
  "metadata": {
    "colab": {
      "collapsed_sections": [],
      "provenance": []
    },
    "kernelspec": {
      "display_name": "Python 2.7.16 64-bit",
      "language": "python",
      "name": "python3"
    },
    "language_info": {
      "codemirror_mode": {
        "name": "ipython",
        "version": 3
      },
      "file_extension": ".py",
      "mimetype": "text/x-python",
      "name": "python",
      "nbconvert_exporter": "python",
      "pygments_lexer": "ipython3",
      "version": "2.7.16"
    },
    "vscode": {
      "interpreter": {
        "hash": "767d51c1340bd893661ea55ea3124f6de3c7a262a8b4abca0554b478b1e2ff90"
      }
    }
  },
  "nbformat": 4,
  "nbformat_minor": 0
}
